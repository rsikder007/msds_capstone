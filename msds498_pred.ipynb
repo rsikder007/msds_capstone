{
 "cells": [
  {
   "cell_type": "code",
   "execution_count": 1,
   "id": "cd05ab2a",
   "metadata": {},
   "outputs": [],
   "source": [
    "import numpy as np \n",
    "import pandas as pd \n",
    "import matplotlib.pyplot as plt\n",
    "import seaborn as sns\n",
    "import statsmodels.api as sm\n",
    "from statsmodels.tsa.stattools import adfuller\n",
    "from statsmodels.graphics.tsaplots import plot_acf, plot_pacf\n",
    "from sklearn.metrics import mean_squared_error\n",
    "from math import sqrt\n",
    "import warnings\n",
    "warnings.filterwarnings('ignore')\n",
    "%matplotlib inline"
   ]
  },
  {
   "cell_type": "code",
   "execution_count": 3,
   "id": "bb2060d3",
   "metadata": {},
   "outputs": [
    {
     "data": {
      "text/plain": [
       "array(['Australia', 'Belgium', 'Brazil', 'Canada', 'Chile', 'China',\n",
       "       'Denmark', 'Europe', 'Finland', 'France', 'Germany', 'Greece',\n",
       "       'Iceland', 'India', 'Italy', 'Japan', 'Korea', 'Mexico',\n",
       "       'Netherlands', 'New Zealand', 'Norway', 'Other Europe', 'Poland',\n",
       "       'Portugal', 'Rest of the world', 'South Africa', 'Spain', 'Sweden',\n",
       "       'Switzerland', 'United Kingdom', 'USA', 'World'], dtype=object)"
      ]
     },
     "execution_count": 3,
     "metadata": {},
     "output_type": "execute_result"
    }
   ],
   "source": [
    "# Reading and transforming the file\n",
    "#cityev2 = pd.read_csv('cityev_q221.csv')\n",
    "#chargedset = pd.read_csv('chrgDataSet.csv')\n",
    "#coloradodset = pd.read_csv('coloradodataset.csv')\n",
    "iea_ev = pd.read_csv('iea-ev-data.csv')\n",
    "df=iea_ev[iea_ev['parameter']=='EV sales']\n",
    "df.region.unique()"
   ]
  },
  {
   "cell_type": "code",
   "execution_count": 4,
   "id": "f3dd515d",
   "metadata": {},
   "outputs": [],
   "source": [
    "df_usa=df[df['region']=='USA']\n",
    "df_usa[\"annual_sales\"] = df.groupby([\"year\"])[\"value\"].transform(sum)"
   ]
  },
  {
   "cell_type": "code",
   "execution_count": 8,
   "id": "756da9a5",
   "metadata": {},
   "outputs": [
    {
     "data": {
      "text/html": [
       "<div>\n",
       "<style scoped>\n",
       "    .dataframe tbody tr th:only-of-type {\n",
       "        vertical-align: middle;\n",
       "    }\n",
       "\n",
       "    .dataframe tbody tr th {\n",
       "        vertical-align: top;\n",
       "    }\n",
       "\n",
       "    .dataframe thead th {\n",
       "        text-align: right;\n",
       "    }\n",
       "</style>\n",
       "<table border=\"1\" class=\"dataframe\">\n",
       "  <thead>\n",
       "    <tr style=\"text-align: right;\">\n",
       "      <th></th>\n",
       "      <th>year</th>\n",
       "      <th>annual_sales</th>\n",
       "    </tr>\n",
       "  </thead>\n",
       "  <tbody>\n",
       "    <tr>\n",
       "      <th>6331</th>\n",
       "      <td>2010</td>\n",
       "      <td>2.269590e+04</td>\n",
       "    </tr>\n",
       "    <tr>\n",
       "      <th>6339</th>\n",
       "      <td>2011</td>\n",
       "      <td>1.117930e+05</td>\n",
       "    </tr>\n",
       "    <tr>\n",
       "      <th>6349</th>\n",
       "      <td>2012</td>\n",
       "      <td>2.662680e+05</td>\n",
       "    </tr>\n",
       "    <tr>\n",
       "      <th>6357</th>\n",
       "      <td>2013</td>\n",
       "      <td>4.398610e+05</td>\n",
       "    </tr>\n",
       "    <tr>\n",
       "      <th>6367</th>\n",
       "      <td>2014</td>\n",
       "      <td>7.145970e+05</td>\n",
       "    </tr>\n",
       "    <tr>\n",
       "      <th>6375</th>\n",
       "      <td>2015</td>\n",
       "      <td>1.364184e+06</td>\n",
       "    </tr>\n",
       "    <tr>\n",
       "      <th>6391</th>\n",
       "      <td>2016</td>\n",
       "      <td>1.820409e+06</td>\n",
       "    </tr>\n",
       "    <tr>\n",
       "      <th>6399</th>\n",
       "      <td>2017</td>\n",
       "      <td>2.770790e+06</td>\n",
       "    </tr>\n",
       "    <tr>\n",
       "      <th>6415</th>\n",
       "      <td>2018</td>\n",
       "      <td>4.499025e+06</td>\n",
       "    </tr>\n",
       "    <tr>\n",
       "      <th>6423</th>\n",
       "      <td>2019</td>\n",
       "      <td>4.526452e+06</td>\n",
       "    </tr>\n",
       "    <tr>\n",
       "      <th>6460</th>\n",
       "      <td>2020</td>\n",
       "      <td>1.897296e+07</td>\n",
       "    </tr>\n",
       "    <tr>\n",
       "      <th>6491</th>\n",
       "      <td>2021</td>\n",
       "      <td>4.112421e+07</td>\n",
       "    </tr>\n",
       "    <tr>\n",
       "      <th>6570</th>\n",
       "      <td>2025</td>\n",
       "      <td>7.861040e+07</td>\n",
       "    </tr>\n",
       "    <tr>\n",
       "      <th>6610</th>\n",
       "      <td>2030</td>\n",
       "      <td>1.513881e+08</td>\n",
       "    </tr>\n",
       "  </tbody>\n",
       "</table>\n",
       "</div>"
      ],
      "text/plain": [
       "      year  annual_sales\n",
       "6331  2010  2.269590e+04\n",
       "6339  2011  1.117930e+05\n",
       "6349  2012  2.662680e+05\n",
       "6357  2013  4.398610e+05\n",
       "6367  2014  7.145970e+05\n",
       "6375  2015  1.364184e+06\n",
       "6391  2016  1.820409e+06\n",
       "6399  2017  2.770790e+06\n",
       "6415  2018  4.499025e+06\n",
       "6423  2019  4.526452e+06\n",
       "6460  2020  1.897296e+07\n",
       "6491  2021  4.112421e+07\n",
       "6570  2025  7.861040e+07\n",
       "6610  2030  1.513881e+08"
      ]
     },
     "execution_count": 8,
     "metadata": {},
     "output_type": "execute_result"
    }
   ],
   "source": [
    "df_usa"
   ]
  },
  {
   "cell_type": "code",
   "execution_count": 5,
   "id": "08776ca4",
   "metadata": {},
   "outputs": [],
   "source": [
    "df_usa.drop_duplicates(subset = ['annual_sales'],keep='last',inplace=True)"
   ]
  },
  {
   "cell_type": "code",
   "execution_count": 6,
   "id": "5a8255f4",
   "metadata": {},
   "outputs": [],
   "source": [
    "df_usa.drop(['region','category','parameter','mode','powertrain','unit','value'],axis=1,inplace=True)"
   ]
  },
  {
   "cell_type": "code",
   "execution_count": 7,
   "id": "6446140e",
   "metadata": {},
   "outputs": [
    {
     "data": {
      "image/png": "[encoded data removed]",
      "text/plain": [
       "<Figure size 1584x432 with 1 Axes>"
      ]
     },
     "metadata": {
      "needs_background": "light"
     },
     "output_type": "display_data"
    }
   ],
   "source": [
    "pd.set_option('display.float_format',lambda x: '%.9f' % x)\n",
    "pd.reset_option('display.float_format', silent=True)\n",
    "plt.figure(figsize=(22,6))\n",
    "sns.lineplot(x=df_usa.index, y=df_usa['annual_sales'])\n",
    "plt.show()"
   ]
  },
  {
   "cell_type": "code",
   "execution_count": null,
   "id": "bd86ebe4",
   "metadata": {},
   "outputs": [],
   "source": []
  }
 ],
 "metadata": {
  "kernelspec": {
   "display_name": "Python 3 (ipykernel)",
   "language": "python",
   "name": "python3"
  },
  "language_info": {
   "codemirror_mode": {
    "name": "ipython",
    "version": 3
   },
   "file_extension": ".py",
   "mimetype": "text/x-python",
   "name": "python",
   "nbconvert_exporter": "python",
   "pygments_lexer": "ipython3",
   "version": "3.9.12"
  }
 },
 "nbformat": 4,
 "nbformat_minor": 5
}
